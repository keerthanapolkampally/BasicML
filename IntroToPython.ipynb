{
 "cells": [
  {
   "cell_type": "code",
   "execution_count": 2,
   "metadata": {},
   "outputs": [
    {
     "name": "stdout",
     "output_type": "stream",
     "text": [
      "[1]\n"
     ]
    }
   ],
   "source": [
    "from sklearn import tree\n",
    "\n",
    "#The features of fruit. [weight, rough(1) or smooth(0)]\n",
    "features = [[140, 1],[130, 1],[150, 0],[170, 0]]\n",
    "#The labels of the fruit in the feature list. Orange(1) or Apple(0) \n",
    "labels = [0, 0, 1, 1]\n",
    "\n",
    "#The classifier that we're using. A simple decision tree.\n",
    "clf = tree.DecisionTreeClassifier()\n",
    "#Training the classifier with the fruit and their labels.\n",
    "clf = clf.fit(features, labels)\n",
    "\n",
    "#Predicting a new fruit\n",
    "print (clf.predict([[160, 0]]))"
   ]
  },
  {
   "cell_type": "code",
   "execution_count": null,
   "metadata": {},
   "outputs": [],
   "source": []
  }
 ],
 "metadata": {
  "kernelspec": {
   "display_name": "Python 3",
   "language": "python",
   "name": "python3"
  },
  "language_info": {
   "codemirror_mode": {
    "name": "ipython",
    "version": 3
   },
   "file_extension": ".py",
   "mimetype": "text/x-python",
   "name": "python",
   "nbconvert_exporter": "python",
   "pygments_lexer": "ipython3",
   "version": "3.6.5"
  }
 },
 "nbformat": 4,
 "nbformat_minor": 2
}
